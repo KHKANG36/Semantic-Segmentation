{
 "cells": [
  {
   "cell_type": "code",
   "execution_count": 1,
   "metadata": {
    "collapsed": true
   },
   "outputs": [],
   "source": [
    "# import required functions\n",
    "import os.path\n",
    "import tensorflow as tf\n",
    "import helper\n",
    "import warnings\n",
    "import cv2\n",
    "import numpy as np\n",
    "from distutils.version import LooseVersion\n",
    "import project_tests as tests"
   ]
  },
  {
   "cell_type": "code",
   "execution_count": 2,
   "metadata": {
    "collapsed": true
   },
   "outputs": [],
   "source": [
    "# Define Variables\n",
    "Reg = 0.001"
   ]
  },
  {
   "cell_type": "code",
   "execution_count": 3,
   "metadata": {
    "collapsed": false
   },
   "outputs": [
    {
     "name": "stdout",
     "output_type": "stream",
     "text": [
      "TensorFlow Version: 1.1.0\n",
      "Default GPU Device: /gpu:0\n"
     ]
    }
   ],
   "source": [
    "# Check TensorFlow Version\n",
    "assert LooseVersion(tf.__version__) >= LooseVersion('1.0'), 'Please use TensorFlow version 1.0 or newer.  You are using {}'.format(tf.__version__)\n",
    "print('TensorFlow Version: {}'.format(tf.__version__))\n",
    "\n",
    "# Check for a GPU\n",
    "if not tf.test.gpu_device_name():\n",
    "    warnings.warn('No GPU found. Please use a GPU to train your neural network.')\n",
    "else:\n",
    "    print('Default GPU Device: {}'.format(tf.test.gpu_device_name()))"
   ]
  },
  {
   "cell_type": "code",
   "execution_count": 4,
   "metadata": {
    "collapsed": false
   },
   "outputs": [],
   "source": [
    "# Load VGG \n",
    "def load_vgg(sess, vgg_path):\n",
    "    \"\"\"\n",
    "    Load Pretrained VGG Model into TensorFlow.\n",
    "    :param sess: TensorFlow Session\n",
    "    :param vgg_path: Path to vgg folder, containing \"variables/\" and \"saved_model.pb\"\n",
    "    :return: Tuple of Tensors from VGG model (image_input, keep_prob, layer3_out, layer4_out, layer7_out)\n",
    "    \"\"\"\n",
    "    vgg_tag = 'vgg16'\n",
    "    vgg_input_tensor_name = 'image_input:0'\n",
    "    vgg_keep_prob_tensor_name = 'keep_prob:0'\n",
    "    vgg_layer3_out_tensor_name = 'layer3_out:0'\n",
    "    vgg_layer4_out_tensor_name = 'layer4_out:0'\n",
    "    vgg_layer7_out_tensor_name = 'layer7_out:0'\n",
    "    \n",
    "    # Load the model & weight \n",
    "    tf.saved_model.loader.load(sess, [vgg_tag], vgg_path)\n",
    "    graph = tf.get_default_graph()\n",
    "    image_input = graph.get_tensor_by_name(vgg_input_tensor_name)\n",
    "    keep_prob = graph.get_tensor_by_name(vgg_keep_prob_tensor_name)\n",
    "    layer3 = graph.get_tensor_by_name(vgg_layer3_out_tensor_name)\n",
    "    layer4 = graph.get_tensor_by_name(vgg_layer4_out_tensor_name)\n",
    "    layer7 = graph.get_tensor_by_name(vgg_layer7_out_tensor_name)\n",
    "    \n",
    "    return image_input, keep_prob, layer3, layer4, layer7"
   ]
  },
  {
   "cell_type": "code",
   "execution_count": 5,
   "metadata": {
    "collapsed": false
   },
   "outputs": [],
   "source": [
    "# Define the layers\n",
    "def layers(vgg_layer3_out, vgg_layer4_out, vgg_layer7_out, num_classes):\n",
    "    \"\"\"\n",
    "    Create the layers for a fully convolutional network.  Build skip-layers using the vgg layers.\n",
    "    :param vgg_layer7_out: TF Tensor for VGG Layer 3 output\n",
    "    :param vgg_layer4_out: TF Tensor for VGG Layer 4 output\n",
    "    :param vgg_layer3_out: TF Tensor for VGG Layer 7 output\n",
    "    :param num_classes: Number of classes to classify\n",
    "    :return: The Tensor for the last layer of output\n",
    "    \"\"\"\n",
    "    conv_1x1_layer7 = tf.layers.conv2d(vgg_layer7_out, num_classes, 1, padding='SAME', \n",
    "                                       kernel_initializer=tf.random_normal_initializer(stddev=0.01),\n",
    "                                       kernel_regularizer=tf.contrib.layers.l2_regularizer(Reg))\n",
    "    deconv_layer7 = tf.layers.conv2d_transpose(conv_1x1_layer7, num_classes, 4, 2, padding='SAME', \n",
    "                                               kernel_initializer=tf.random_normal_initializer(stddev=0.01),\n",
    "                                               kernel_regularizer=tf.contrib.layers.l2_regularizer(Reg))\n",
    "    conv_1x1_layer4 = tf.layers.conv2d(vgg_layer4_out, num_classes, 1, padding='SAME',\n",
    "                                       kernel_initializer=tf.random_normal_initializer(stddev=0.01),\n",
    "                                       kernel_regularizer=tf.contrib.layers.l2_regularizer(Reg))\n",
    "    skip_connect1 = tf.add (deconv_layer7, conv_1x1_layer4)\n",
    "    deconv_skip_connect1 = tf.layers.conv2d_transpose(skip_connect1, num_classes, 4, 2, padding='SAME', \n",
    "                                               kernel_initializer=tf.random_normal_initializer(stddev=0.01),\n",
    "                                               kernel_regularizer=tf.contrib.layers.l2_regularizer(Reg))\n",
    "    conv_1x1_layer3 = tf.layers.conv2d(vgg_layer3_out, num_classes, 1, padding='SAME', \n",
    "                                       kernel_initializer=tf.random_normal_initializer(stddev=0.01),\n",
    "                                       kernel_regularizer=tf.contrib.layers.l2_regularizer(Reg))\n",
    "    skip_connect2 = tf.add (deconv_skip_connect1, conv_1x1_layer3)\n",
    "    output = tf.layers.conv2d_transpose(skip_connect2, num_classes, 16, 8, padding='SAME', \n",
    "                                        kernel_initializer=tf.random_normal_initializer(stddev=0.01),\n",
    "                                               kernel_regularizer=tf.contrib.layers.l2_regularizer(Reg)) \n",
    "    \n",
    "    return output"
   ]
  },
  {
   "cell_type": "code",
   "execution_count": 6,
   "metadata": {
    "collapsed": false
   },
   "outputs": [],
   "source": [
    "# Optimizer\n",
    "def optimize(nn_last_layer, correct_label, learning_rate, num_classes):\n",
    "    \"\"\"\n",
    "    Build the TensorFLow loss and optimizer operations.\n",
    "    :param nn_last_layer: TF Tensor of the last layer in the neural network\n",
    "    :param correct_label: TF Placeholder for the correct label image\n",
    "    :param learning_rate: TF Placeholder for the learning rate\n",
    "    :param num_classes: Number of classes to classify\n",
    "    :return: Tuple of (logits, train_op, cross_entropy_loss)\n",
    "    \"\"\"\n",
    "    logits = tf.reshape(nn_last_layer, (-1,num_classes))\n",
    "    labels = tf.reshape(correct_label, (-1,num_classes))\n",
    "    cross_entropy_loss = tf.reduce_mean (tf.nn.softmax_cross_entropy_with_logits(logits=logits, labels=labels))\n",
    "    train_op = tf.train.AdamOptimizer(learning_rate).minimize(cross_entropy_loss)\n",
    "    \n",
    "    return logits, train_op, cross_entropy_loss"
   ]
  },
  {
   "cell_type": "code",
   "execution_count": 7,
   "metadata": {
    "collapsed": false
   },
   "outputs": [],
   "source": [
    "def train_nn(sess, epochs, batch_size, get_batches_fn, train_op, cross_entropy_loss, input_image,\n",
    "             correct_label, keep_prob, learning_rate):\n",
    "    \"\"\"\n",
    "    Train neural network and print out the loss during training.\n",
    "    :param sess: TF Session\n",
    "    :param epochs: Number of epochs\n",
    "    :param batch_size: Batch size\n",
    "    :param get_batches_fn: Function to get batches of training data.  Call using get_batches_fn(batch_size)\n",
    "    :param train_op: TF Operation to train the neural network\n",
    "    :param cross_entropy_loss: TF Tensor for the amount of loss\n",
    "    :param input_image: TF Placeholder for input images\n",
    "    :param correct_label: TF Placeholder for label images\n",
    "    :param keep_prob: TF Placeholder for dropout keep probability\n",
    "    :param learning_rate: TF Placeholder for learning rate\n",
    "    \"\"\"\n",
    "    #Train function \n",
    "    for epoch in range(epochs):\n",
    "        for image, label in get_batches_fn(batch_size):\n",
    "            _, loss = sess.run([train_op, cross_entropy_loss], feed_dict = {input_image: image, correct_label: label, keep_prob: 0.5, learning_rate: 0.0001})\n",
    "        print(\"EPOCH: {}...\".format(epoch+1), \"LOSS: {}\".format(loss))"
   ]
  },
  {
   "cell_type": "code",
   "execution_count": 8,
   "metadata": {
    "collapsed": true
   },
   "outputs": [],
   "source": [
    "def run():\n",
    "    num_classes = 2\n",
    "    image_shape = (160, 576)\n",
    "    data_dir = './data'\n",
    "    runs_dir = './runs'\n",
    "    tests.test_for_kitti_dataset(data_dir)\n",
    "\n",
    "    # Download pretrained vgg model\n",
    "    helper.maybe_download_pretrained_vgg(data_dir)\n",
    "\n",
    "    # OPTIONAL: Train and Inference on the cityscapes dataset instead of the Kitti dataset.\n",
    "    # You'll need a GPU with at least 10 teraFLOPS to train on.\n",
    "    #  https://www.cityscapes-dataset.com/\n",
    "\n",
    "    with tf.Session() as sess:\n",
    "        # Path to vgg model\n",
    "        vgg_path = os.path.join(data_dir, 'vgg')\n",
    "        # Create function to get batches\n",
    "        get_batches_fn = helper.gen_batch_function(os.path.join(data_dir, 'data_road/training'), image_shape)\n",
    "\n",
    "        # OPTIONAL: Augment Images for better results\n",
    "        #  https://datascience.stackexchange.com/questions/5224/how-to-prepare-augment-images-for-neural-network\n",
    "\n",
    "        # TODO: Build NN using load_vgg, layers, and optimize function\n",
    "        epochs = 30\n",
    "        batch_size = 8\n",
    "        image_input, keep_prob, layer3, layer4, layer7 = load_vgg(sess, vgg_path)\n",
    "        output = layers(layer3, layer4, layer7, num_classes)\n",
    "        #TF Placeholder for correct_label,learning_rate\n",
    "        correct_label = tf.placeholder(dtype = tf.int32, shape = [None, None, None, num_classes])\n",
    "        learning_rate = tf.placeholder(dtype = tf.float32)\n",
    "        logits, train_op, cross_entropy_loss = optimize(output, correct_label, learning_rate, num_classes)\n",
    "\n",
    "        # TODO: Train NN using the train_nn function\n",
    "        sess.run(tf.global_variables_initializer())\n",
    "        train_nn(sess, epochs, batch_size, get_batches_fn, train_op, cross_entropy_loss, image_input, correct_label, keep_prob, learning_rate)\n",
    "\n",
    "        # TODO: Save inference data using helper.save_inference_samples\n",
    "        #  helper.save_inference_samples(runs_dir, data_dir, sess, image_shape, logits, keep_prob, input_image)\n",
    "        helper.save_inference_samples(runs_dir, data_dir, sess, image_shape, logits, keep_prob, image_input)\n",
    "        video_file = 'project_video.mp4'\n",
    "        helper.gen_video_output(sess, logits, keep_prob, image_input, video_file, image_shape)\n",
    "        print (\"Finished..\")"
   ]
  },
  {
   "cell_type": "code",
   "execution_count": 9,
   "metadata": {
    "collapsed": false
   },
   "outputs": [
    {
     "name": "stdout",
     "output_type": "stream",
     "text": [
      "Tests Passed\n",
      "INFO:tensorflow:Restoring parameters from b'./data\\\\vgg\\\\variables\\\\variables'\n",
      "EPOCH: 1... LOSS: 0.5815626382827759\n",
      "EPOCH: 2... LOSS: 0.3172759413719177\n",
      "EPOCH: 3... LOSS: 0.08827859908342361\n",
      "EPOCH: 4... LOSS: 0.07777823507785797\n",
      "EPOCH: 5... LOSS: 0.07969779521226883\n",
      "EPOCH: 6... LOSS: 0.06297720223665237\n",
      "EPOCH: 7... LOSS: 0.08005010336637497\n",
      "EPOCH: 8... LOSS: 0.07674563676118851\n",
      "EPOCH: 9... LOSS: 0.08047071844339371\n",
      "EPOCH: 10... LOSS: 0.06536979228258133\n",
      "EPOCH: 11... LOSS: 0.04730866849422455\n",
      "EPOCH: 12... LOSS: 0.04546087607741356\n",
      "EPOCH: 13... LOSS: 0.06759493052959442\n",
      "EPOCH: 14... LOSS: 0.05469470098614693\n",
      "EPOCH: 15... LOSS: 0.08720637857913971\n",
      "EPOCH: 16... LOSS: 0.05297024920582771\n",
      "EPOCH: 17... LOSS: 0.06840860843658447\n",
      "EPOCH: 18... LOSS: 0.05381012707948685\n",
      "EPOCH: 19... LOSS: 0.051024001091718674\n",
      "EPOCH: 20... LOSS: 0.029413213953375816\n",
      "EPOCH: 21... LOSS: 0.024599749594926834\n",
      "EPOCH: 22... LOSS: 0.03978588059544563\n",
      "EPOCH: 23... LOSS: 0.02444099821150303\n",
      "EPOCH: 24... LOSS: 0.023596474900841713\n",
      "EPOCH: 25... LOSS: 0.027248769998550415\n",
      "EPOCH: 26... LOSS: 0.022544169798493385\n",
      "EPOCH: 27... LOSS: 0.07472401857376099\n",
      "EPOCH: 28... LOSS: 0.026156317442655563\n",
      "EPOCH: 29... LOSS: 0.06681801378726959\n",
      "EPOCH: 30... LOSS: 0.09159573167562485\n",
      "Training Finished. Saving test images to: ./runs\\1509777237.224759\n",
      "Finished..\n"
     ]
    }
   ],
   "source": [
    "run()"
   ]
  },
  {
   "cell_type": "code",
   "execution_count": null,
   "metadata": {
    "collapsed": true
   },
   "outputs": [],
   "source": []
  }
 ],
 "metadata": {
  "anaconda-cloud": {},
  "kernelspec": {
   "display_name": "Python [conda root]",
   "language": "python",
   "name": "conda-root-py"
  },
  "language_info": {
   "codemirror_mode": {
    "name": "ipython",
    "version": 3
   },
   "file_extension": ".py",
   "mimetype": "text/x-python",
   "name": "python",
   "nbconvert_exporter": "python",
   "pygments_lexer": "ipython3",
   "version": "3.5.2"
  }
 },
 "nbformat": 4,
 "nbformat_minor": 1
}
